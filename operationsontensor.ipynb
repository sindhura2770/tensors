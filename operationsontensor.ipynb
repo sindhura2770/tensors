{
  "nbformat": 4,
  "nbformat_minor": 0,
  "metadata": {
    "colab": {
      "provenance": [],
      "authorship_tag": "ABX9TyOyHum47mmf+QyjdLWhQmA8",
      "include_colab_link": true
    },
    "kernelspec": {
      "name": "python3",
      "display_name": "Python 3"
    },
    "language_info": {
      "name": "python"
    }
  },
  "cells": [
    {
      "cell_type": "markdown",
      "metadata": {
        "id": "view-in-github",
        "colab_type": "text"
      },
      "source": [
        "<a href=\"https://colab.research.google.com/github/sindhura2770/tensors/blob/main/operationsontensor.ipynb\" target=\"_parent\"><img src=\"https://colab.research.google.com/assets/colab-badge.svg\" alt=\"Open In Colab\"/></a>"
      ]
    },
    {
      "cell_type": "code",
      "execution_count": 1,
      "metadata": {
        "id": "kbZbIkPmq1cE",
        "colab": {
          "base_uri": "https://localhost:8080/"
        },
        "outputId": "cf86b5bd-7994-4c52-e450-64546bb48260"
      },
      "outputs": [
        {
          "output_type": "stream",
          "name": "stdout",
          "text": [
            "Addition of a and b : tf.Tensor([11 23 38 50], shape=(4,), dtype=int32)\n"
          ]
        }
      ],
      "source": [
        "import tensorflow as tf\n",
        "import numpy as np\n",
        "a=tf.constant([1,2,3,4])\n",
        "b=tf.constant([10,21,35,46])\n",
        "\n",
        "#Addition\n",
        "x=tf.add(a,b)\n",
        "print(\"Addition of a and b :\",x)"
      ]
    },
    {
      "cell_type": "code",
      "source": [
        "#subtraction\n",
        "x=tf.subtract(a,b)\n",
        "print(\"Subtraction of a and b:\",x)"
      ],
      "metadata": {
        "colab": {
          "base_uri": "https://localhost:8080/"
        },
        "id": "Tv7ZDGDv7Yvu",
        "outputId": "76a801cb-b0f1-4f21-8219-8e4e144a724c"
      },
      "execution_count": 2,
      "outputs": [
        {
          "output_type": "stream",
          "name": "stdout",
          "text": [
            "Subtraction of a and b: tf.Tensor([ -9 -19 -32 -42], shape=(4,), dtype=int32)\n"
          ]
        }
      ]
    },
    {
      "cell_type": "code",
      "source": [
        "#multiplication\n",
        "x=tf.multiply(a,b)\n",
        "print(\"Multiplication of a and b:\",x)"
      ],
      "metadata": {
        "colab": {
          "base_uri": "https://localhost:8080/"
        },
        "id": "BN-Jt5HR7r3F",
        "outputId": "92b32ab9-4206-462a-aaaa-99e17263f895"
      },
      "execution_count": 3,
      "outputs": [
        {
          "output_type": "stream",
          "name": "stdout",
          "text": [
            "Multiplication of a and b: tf.Tensor([ 10  42 105 184], shape=(4,), dtype=int32)\n"
          ]
        }
      ]
    },
    {
      "cell_type": "code",
      "source": [
        "#division\n",
        "x=tf.divide(b,a)\n",
        "print(\"Multiplication of a and b :\",x)"
      ],
      "metadata": {
        "colab": {
          "base_uri": "https://localhost:8080/"
        },
        "id": "aBxVd6Iq78O7",
        "outputId": "a32cd2e7-5785-496d-d5f5-5869f63654e2"
      },
      "execution_count": 5,
      "outputs": [
        {
          "output_type": "stream",
          "name": "stdout",
          "text": [
            "Multiplication of a and b : tf.Tensor([10.         10.5        11.66666667 11.5       ], shape=(4,), dtype=float64)\n"
          ]
        }
      ]
    },
    {
      "cell_type": "code",
      "source": [
        "x=tf.constant([3,3,3])\n",
        "y=tf.constant([2,2,2])\n",
        "div1=tf.divide(x,y)\n",
        "print(\"div1:\",div1)\n",
        "div2=x/y\n",
        "print(\"div2:\",div2)\n",
        "#div3=tf.div(x,y)\n",
        "#print(\"div3\",div3) # module 'tensorflow' has no attribute 'div'\n",
        "div4=x//y\n",
        "print(\"div4\",div4)"
      ],
      "metadata": {
        "colab": {
          "base_uri": "https://localhost:8080/"
        },
        "id": "xLtmqLdK8Kh_",
        "outputId": "b49af397-0360-4921-89e3-061369026967"
      },
      "execution_count": 16,
      "outputs": [
        {
          "output_type": "stream",
          "name": "stdout",
          "text": [
            "div1: tf.Tensor([1.5 1.5 1.5], shape=(3,), dtype=float64)\n",
            "div2: tf.Tensor([1.5 1.5 1.5], shape=(3,), dtype=float64)\n",
            "div4 tf.Tensor([1 1 1], shape=(3,), dtype=int32)\n"
          ]
        }
      ]
    },
    {
      "cell_type": "code",
      "source": [
        "p=tf.constant([1.0,2.0,3.5,4.6,5.5])\n",
        "x=tf.math.log(p)\n",
        "print(\"logarithm of p:\",x)\n"
      ],
      "metadata": {
        "colab": {
          "base_uri": "https://localhost:8080/"
        },
        "id": "iI_AzvKh_dp6",
        "outputId": "92787fee-1e12-4f2d-b7cd-645f1e0eb66b"
      },
      "execution_count": 20,
      "outputs": [
        {
          "output_type": "stream",
          "name": "stdout",
          "text": [
            "logarithm of p: tf.Tensor([0.        0.6931472 1.2527629 1.5260563 1.704748 ], shape=(5,), dtype=float32)\n"
          ]
        }
      ]
    },
    {
      "cell_type": "code",
      "source": [
        "x=tf.math.exp(p)\n",
        "print(p)"
      ],
      "metadata": {
        "colab": {
          "base_uri": "https://localhost:8080/"
        },
        "id": "arfvqMLZ_5rq",
        "outputId": "7187eccc-f6e9-44ec-e85d-def1f3da3ec7"
      },
      "execution_count": 21,
      "outputs": [
        {
          "output_type": "stream",
          "name": "stdout",
          "text": [
            "tf.Tensor([1.  2.  3.5 4.6 5.5], shape=(5,), dtype=float32)\n"
          ]
        }
      ]
    }
  ]
}